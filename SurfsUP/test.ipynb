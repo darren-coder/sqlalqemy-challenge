{
 "cells": [
  {
   "cell_type": "code",
   "execution_count": 1,
   "metadata": {},
   "outputs": [],
   "source": [
    "import sqlalchemy\n",
    "from sqlalchemy.ext.automap import automap_base\n",
    "from sqlalchemy.orm import Session\n",
    "from flask import Flask, jsonify\n",
    "from sqlalchemy import create_engine, func\n",
    "from datetime import datetime\n",
    "import pandas as pd"
   ]
  },
  {
   "cell_type": "code",
   "execution_count": 2,
   "metadata": {},
   "outputs": [],
   "source": [
    "engine = create_engine(\"sqlite:///../Resources/hawaii.sqlite\")\n",
    "Base = automap_base()\n",
    "Base.prepare(autoload_with=engine)\n",
    "# reflect the tables\n",
    "Base.classes.keys()\n",
    "\n",
    "# Save references to each table\n",
    "station = Base.classes.station\n",
    "measurement = Base.classes.measurement\n"
   ]
  },
  {
   "cell_type": "code",
   "execution_count": 3,
   "metadata": {},
   "outputs": [],
   "source": [
    "app = Flask(__name__)\n",
    "session = Session(engine)\n",
    "session.close()"
   ]
  },
  {
   "cell_type": "code",
   "execution_count": 4,
   "metadata": {},
   "outputs": [],
   "source": [
    "start_date = \"2010-1-7\"\n",
    "end_date = \"2010-4-10\""
   ]
  },
  {
   "cell_type": "code",
   "execution_count": 5,
   "metadata": {},
   "outputs": [],
   "source": [
    "start_object = datetime.strptime(start_date, \"%Y-%m-%d\").date()\n",
    "end_object = datetime.strptime(end_date, \"%Y-%m-%d\").date()"
   ]
  },
  {
   "cell_type": "code",
   "execution_count": 9,
   "metadata": {},
   "outputs": [],
   "source": [
    "session.close()"
   ]
  },
  {
   "cell_type": "code",
   "execution_count": 6,
   "metadata": {},
   "outputs": [
    {
     "name": "stdout",
     "output_type": "stream",
     "text": [
      "2010-01-07\n",
      "2010-04-10\n"
     ]
    }
   ],
   "source": [
    "print(start_object)\n",
    "print(end_object)"
   ]
  },
  {
   "cell_type": "code",
   "execution_count": 7,
   "metadata": {},
   "outputs": [
    {
     "name": "stdout",
     "output_type": "stream",
     "text": [
      "[('2010-01-07', 68.0, 70.42857142857143, 74.0), ('2010-01-08', 63.0, 65.57142857142857, 73.0), ('2010-01-09', 67.0, 68.57142857142857, 70.0), ('2010-01-10', 70.0, 72.71428571428571, 75.0), ('2010-01-11', 64.0, 66.71428571428571, 72.0), ('2010-01-12', 57.0, 61.57142857142857, 68.0), ('2010-01-13', 57.0, 61.5, 68.0), ('2010-01-14', 65.0, 66.42857142857143, 69.0), ('2010-01-15', 56.0, 64.83333333333333, 69.0), ('2010-01-16', 65.0, 67.33333333333333, 71.0), ('2010-01-17', 64.0, 68.0, 70.0), ('2010-01-18', 70.0, 73.0, 77.0), ('2010-01-19', 61.0, 69.42857142857143, 75.0), ('2010-01-20', 66.0, 67.85714285714286, 72.0), ('2010-01-21', 68.0, 69.5, 71.0), ('2010-01-22', 60.0, 63.5, 67.0), ('2010-01-23', 67.0, 73.83333333333333, 78.0), ('2010-01-24', 71.0, 73.16666666666667, 76.0), ('2010-01-25', 65.0, 67.14285714285714, 72.0), ('2010-01-26', 69.0, 74.71428571428571, 77.0), ('2010-01-27', 65.0, 68.71428571428571, 71.0), ('2010-01-28', 67.0, 69.83333333333333, 72.0), ('2010-01-29', 65.0, 65.8, 68.0), ('2010-01-30', 69.0, 70.5, 77.0), ('2010-01-31', 67.0, 71.5, 74.0), ('2010-02-01', 64.0, 66.5, 69.0), ('2010-02-02', 65.0, 66.83333333333333, 70.0), ('2010-02-03', 63.0, 64.85714285714286, 67.0), ('2010-02-04', 64.0, 67.57142857142857, 70.0), ('2010-02-05', 59.0, 65.28571428571429, 70.0), ('2010-02-06', 62.0, 68.42857142857143, 76.0), ('2010-02-07', 62.0, 64.8, 69.0), ('2010-02-08', 60.0, 67.66666666666667, 71.0), ('2010-02-09', 61.0, 69.57142857142857, 73.0), ('2010-02-10', 60.0, 65.83333333333333, 74.0), ('2010-02-11', 69.0, 70.8, 73.0), ('2010-02-12', 64.0, 67.83333333333333, 70.0), ('2010-02-13', 67.0, 69.28571428571429, 71.0), ('2010-02-14', 66.0, 69.14285714285714, 73.0), ('2010-02-15', 70.0, 71.71428571428571, 73.0), ('2010-02-16', 59.0, 65.0, 74.0), ('2010-02-17', 65.0, 67.71428571428571, 69.0), ('2010-02-18', 63.0, 66.0, 68.0), ('2010-02-19', 60.0, 62.285714285714285, 63.0), ('2010-02-20', 63.0, 68.0, 74.0), ('2010-02-21', 65.0, 67.0, 69.0), ('2010-02-22', 62.0, 64.16666666666667, 67.0), ('2010-02-23', 62.0, 66.28571428571429, 72.0), ('2010-02-24', 61.0, 64.28571428571429, 72.0), ('2010-02-25', 64.0, 69.57142857142857, 76.0), ('2010-02-26', 71.0, 72.83333333333333, 75.0), ('2010-02-27', 68.0, 71.5, 75.0), ('2010-02-28', 66.0, 68.0, 70.0), ('2010-03-01', 66.0, 68.125, 70.0), ('2010-03-02', 67.0, 70.0, 72.0), ('2010-03-03', 66.0, 69.71428571428571, 73.0), ('2010-03-04', 65.0, 67.28571428571429, 70.0), ('2010-03-05', 63.0, 67.625, 71.0), ('2010-03-06', 63.0, 70.625, 74.0), ('2010-03-07', 67.0, 69.71428571428571, 72.0), ('2010-03-08', 64.0, 67.75, 70.0), ('2010-03-09', 67.0, 69.125, 72.0), ('2010-03-10', 66.0, 69.83333333333333, 72.0), ('2010-03-11', 68.0, 70.75, 73.0), ('2010-03-12', 66.0, 69.375, 72.0), ('2010-03-13', 62.0, 71.33333333333333, 76.0), ('2010-03-14', 62.0, 71.625, 76.0), ('2010-03-15', 65.0, 68.25, 71.0), ('2010-03-16', 63.0, 67.83333333333333, 71.0), ('2010-03-17', 63.0, 65.85714285714286, 69.0), ('2010-03-18', 65.0, 67.0, 70.0), ('2010-03-19', 62.0, 66.71428571428571, 69.0), ('2010-03-20', 65.0, 69.0, 73.0), ('2010-03-21', 60.0, 69.0, 74.0), ('2010-03-22', 65.0, 70.0, 77.0), ('2010-03-23', 64.0, 67.85714285714286, 74.0), ('2010-03-24', 71.0, 72.625, 77.0), ('2010-03-25', 67.0, 70.83333333333333, 73.0), ('2010-03-26', 66.0, 70.85714285714286, 74.0), ('2010-03-27', 71.0, 73.14285714285714, 77.0), ('2010-03-28', 69.0, 72.75, 76.0), ('2010-03-29', 69.0, 71.25, 74.0), ('2010-03-30', 68.0, 71.375, 73.0), ('2010-03-31', 67.0, 71.28571428571429, 73.0), ('2010-04-01', 69.0, 72.14285714285714, 74.0), ('2010-04-02', 65.0, 71.375, 74.0), ('2010-04-03', 67.0, 71.85714285714286, 78.0), ('2010-04-04', 66.0, 69.875, 72.0), ('2010-04-05', 67.0, 70.625, 73.0), ('2010-04-06', 69.0, 70.625, 75.0), ('2010-04-07', 68.0, 70.57142857142857, 73.0), ('2010-04-08', 68.0, 72.875, 76.0), ('2010-04-09', 68.0, 70.375, 75.0), ('2010-04-10', 67.0, 73.42857142857143, 76.0)]\n"
     ]
    }
   ],
   "source": [
    "tobs_from = session.query(\n",
    "    measurement.date, \n",
    "    func.min(measurement.tobs).label('min_1'),\n",
    "    func.avg(measurement.tobs).label('avg_1'),\n",
    "    func.max(measurement.tobs).label('max_1')\n",
    ").filter(\n",
    "    measurement.date >= start_object,\n",
    "    measurement.date <= end_object\n",
    ").group_by(\n",
    "    measurement.date\n",
    ").all() \n",
    "print(tobs_from)"
   ]
  },
  {
   "cell_type": "code",
   "execution_count": 12,
   "metadata": {},
   "outputs": [
    {
     "name": "stdout",
     "output_type": "stream",
     "text": [
      "SELECT measurement.date AS measurement_date, min(measurement.tobs) AS min_1, avg(measurement.tobs) AS avg_1, max(measurement.tobs) AS max_1 \n",
      "FROM measurement \n",
      "WHERE measurement.date >= ? AND measurement.date <= ? GROUP BY measurement.date\n"
     ]
    }
   ],
   "source": [
    "tobs_from = session.query(measurement.date, \n",
    "                              func.min(measurement.tobs),\\\n",
    "                              func.avg(measurement.tobs),\\\n",
    "                                func.max(measurement.tobs)).\\\n",
    "                                filter(measurement.date >= start_date).\\\n",
    "                                filter(measurement.date <= end_date).\\\n",
    "                                group_by(measurement.date)\n",
    "\n",
    "print(tobs_from)"
   ]
  },
  {
   "cell_type": "code",
   "execution_count": 8,
   "metadata": {},
   "outputs": [
    {
     "name": "stdout",
     "output_type": "stream",
     "text": [
      "[{'Date': '2010-01-07', 'Minimum Temperature': 68.0, 'Average Temperature': 70.4, 'Maximum Temperature': 74.0}, {'Date': '2010-01-08', 'Minimum Temperature': 63.0, 'Average Temperature': 65.6, 'Maximum Temperature': 73.0}, {'Date': '2010-01-09', 'Minimum Temperature': 67.0, 'Average Temperature': 68.6, 'Maximum Temperature': 70.0}, {'Date': '2010-01-10', 'Minimum Temperature': 70.0, 'Average Temperature': 72.7, 'Maximum Temperature': 75.0}, {'Date': '2010-01-11', 'Minimum Temperature': 64.0, 'Average Temperature': 66.7, 'Maximum Temperature': 72.0}, {'Date': '2010-01-12', 'Minimum Temperature': 57.0, 'Average Temperature': 61.6, 'Maximum Temperature': 68.0}, {'Date': '2010-01-13', 'Minimum Temperature': 57.0, 'Average Temperature': 61.5, 'Maximum Temperature': 68.0}, {'Date': '2010-01-14', 'Minimum Temperature': 65.0, 'Average Temperature': 66.4, 'Maximum Temperature': 69.0}, {'Date': '2010-01-15', 'Minimum Temperature': 56.0, 'Average Temperature': 64.8, 'Maximum Temperature': 69.0}, {'Date': '2010-01-16', 'Minimum Temperature': 65.0, 'Average Temperature': 67.3, 'Maximum Temperature': 71.0}, {'Date': '2010-01-17', 'Minimum Temperature': 64.0, 'Average Temperature': 68.0, 'Maximum Temperature': 70.0}, {'Date': '2010-01-18', 'Minimum Temperature': 70.0, 'Average Temperature': 73.0, 'Maximum Temperature': 77.0}, {'Date': '2010-01-19', 'Minimum Temperature': 61.0, 'Average Temperature': 69.4, 'Maximum Temperature': 75.0}, {'Date': '2010-01-20', 'Minimum Temperature': 66.0, 'Average Temperature': 67.9, 'Maximum Temperature': 72.0}, {'Date': '2010-01-21', 'Minimum Temperature': 68.0, 'Average Temperature': 69.5, 'Maximum Temperature': 71.0}, {'Date': '2010-01-22', 'Minimum Temperature': 60.0, 'Average Temperature': 63.5, 'Maximum Temperature': 67.0}, {'Date': '2010-01-23', 'Minimum Temperature': 67.0, 'Average Temperature': 73.8, 'Maximum Temperature': 78.0}, {'Date': '2010-01-24', 'Minimum Temperature': 71.0, 'Average Temperature': 73.2, 'Maximum Temperature': 76.0}, {'Date': '2010-01-25', 'Minimum Temperature': 65.0, 'Average Temperature': 67.1, 'Maximum Temperature': 72.0}, {'Date': '2010-01-26', 'Minimum Temperature': 69.0, 'Average Temperature': 74.7, 'Maximum Temperature': 77.0}, {'Date': '2010-01-27', 'Minimum Temperature': 65.0, 'Average Temperature': 68.7, 'Maximum Temperature': 71.0}, {'Date': '2010-01-28', 'Minimum Temperature': 67.0, 'Average Temperature': 69.8, 'Maximum Temperature': 72.0}, {'Date': '2010-01-29', 'Minimum Temperature': 65.0, 'Average Temperature': 65.8, 'Maximum Temperature': 68.0}, {'Date': '2010-01-30', 'Minimum Temperature': 69.0, 'Average Temperature': 70.5, 'Maximum Temperature': 77.0}, {'Date': '2010-01-31', 'Minimum Temperature': 67.0, 'Average Temperature': 71.5, 'Maximum Temperature': 74.0}, {'Date': '2010-02-01', 'Minimum Temperature': 64.0, 'Average Temperature': 66.5, 'Maximum Temperature': 69.0}, {'Date': '2010-02-02', 'Minimum Temperature': 65.0, 'Average Temperature': 66.8, 'Maximum Temperature': 70.0}, {'Date': '2010-02-03', 'Minimum Temperature': 63.0, 'Average Temperature': 64.9, 'Maximum Temperature': 67.0}, {'Date': '2010-02-04', 'Minimum Temperature': 64.0, 'Average Temperature': 67.6, 'Maximum Temperature': 70.0}, {'Date': '2010-02-05', 'Minimum Temperature': 59.0, 'Average Temperature': 65.3, 'Maximum Temperature': 70.0}, {'Date': '2010-02-06', 'Minimum Temperature': 62.0, 'Average Temperature': 68.4, 'Maximum Temperature': 76.0}, {'Date': '2010-02-07', 'Minimum Temperature': 62.0, 'Average Temperature': 64.8, 'Maximum Temperature': 69.0}, {'Date': '2010-02-08', 'Minimum Temperature': 60.0, 'Average Temperature': 67.7, 'Maximum Temperature': 71.0}, {'Date': '2010-02-09', 'Minimum Temperature': 61.0, 'Average Temperature': 69.6, 'Maximum Temperature': 73.0}, {'Date': '2010-02-10', 'Minimum Temperature': 60.0, 'Average Temperature': 65.8, 'Maximum Temperature': 74.0}, {'Date': '2010-02-11', 'Minimum Temperature': 69.0, 'Average Temperature': 70.8, 'Maximum Temperature': 73.0}, {'Date': '2010-02-12', 'Minimum Temperature': 64.0, 'Average Temperature': 67.8, 'Maximum Temperature': 70.0}, {'Date': '2010-02-13', 'Minimum Temperature': 67.0, 'Average Temperature': 69.3, 'Maximum Temperature': 71.0}, {'Date': '2010-02-14', 'Minimum Temperature': 66.0, 'Average Temperature': 69.1, 'Maximum Temperature': 73.0}, {'Date': '2010-02-15', 'Minimum Temperature': 70.0, 'Average Temperature': 71.7, 'Maximum Temperature': 73.0}, {'Date': '2010-02-16', 'Minimum Temperature': 59.0, 'Average Temperature': 65.0, 'Maximum Temperature': 74.0}, {'Date': '2010-02-17', 'Minimum Temperature': 65.0, 'Average Temperature': 67.7, 'Maximum Temperature': 69.0}, {'Date': '2010-02-18', 'Minimum Temperature': 63.0, 'Average Temperature': 66.0, 'Maximum Temperature': 68.0}, {'Date': '2010-02-19', 'Minimum Temperature': 60.0, 'Average Temperature': 62.3, 'Maximum Temperature': 63.0}, {'Date': '2010-02-20', 'Minimum Temperature': 63.0, 'Average Temperature': 68.0, 'Maximum Temperature': 74.0}, {'Date': '2010-02-21', 'Minimum Temperature': 65.0, 'Average Temperature': 67.0, 'Maximum Temperature': 69.0}, {'Date': '2010-02-22', 'Minimum Temperature': 62.0, 'Average Temperature': 64.2, 'Maximum Temperature': 67.0}, {'Date': '2010-02-23', 'Minimum Temperature': 62.0, 'Average Temperature': 66.3, 'Maximum Temperature': 72.0}, {'Date': '2010-02-24', 'Minimum Temperature': 61.0, 'Average Temperature': 64.3, 'Maximum Temperature': 72.0}, {'Date': '2010-02-25', 'Minimum Temperature': 64.0, 'Average Temperature': 69.6, 'Maximum Temperature': 76.0}, {'Date': '2010-02-26', 'Minimum Temperature': 71.0, 'Average Temperature': 72.8, 'Maximum Temperature': 75.0}, {'Date': '2010-02-27', 'Minimum Temperature': 68.0, 'Average Temperature': 71.5, 'Maximum Temperature': 75.0}, {'Date': '2010-02-28', 'Minimum Temperature': 66.0, 'Average Temperature': 68.0, 'Maximum Temperature': 70.0}, {'Date': '2010-03-01', 'Minimum Temperature': 66.0, 'Average Temperature': 68.1, 'Maximum Temperature': 70.0}, {'Date': '2010-03-02', 'Minimum Temperature': 67.0, 'Average Temperature': 70.0, 'Maximum Temperature': 72.0}, {'Date': '2010-03-03', 'Minimum Temperature': 66.0, 'Average Temperature': 69.7, 'Maximum Temperature': 73.0}, {'Date': '2010-03-04', 'Minimum Temperature': 65.0, 'Average Temperature': 67.3, 'Maximum Temperature': 70.0}, {'Date': '2010-03-05', 'Minimum Temperature': 63.0, 'Average Temperature': 67.6, 'Maximum Temperature': 71.0}, {'Date': '2010-03-06', 'Minimum Temperature': 63.0, 'Average Temperature': 70.6, 'Maximum Temperature': 74.0}, {'Date': '2010-03-07', 'Minimum Temperature': 67.0, 'Average Temperature': 69.7, 'Maximum Temperature': 72.0}, {'Date': '2010-03-08', 'Minimum Temperature': 64.0, 'Average Temperature': 67.8, 'Maximum Temperature': 70.0}, {'Date': '2010-03-09', 'Minimum Temperature': 67.0, 'Average Temperature': 69.1, 'Maximum Temperature': 72.0}, {'Date': '2010-03-10', 'Minimum Temperature': 66.0, 'Average Temperature': 69.8, 'Maximum Temperature': 72.0}, {'Date': '2010-03-11', 'Minimum Temperature': 68.0, 'Average Temperature': 70.8, 'Maximum Temperature': 73.0}, {'Date': '2010-03-12', 'Minimum Temperature': 66.0, 'Average Temperature': 69.4, 'Maximum Temperature': 72.0}, {'Date': '2010-03-13', 'Minimum Temperature': 62.0, 'Average Temperature': 71.3, 'Maximum Temperature': 76.0}, {'Date': '2010-03-14', 'Minimum Temperature': 62.0, 'Average Temperature': 71.6, 'Maximum Temperature': 76.0}, {'Date': '2010-03-15', 'Minimum Temperature': 65.0, 'Average Temperature': 68.2, 'Maximum Temperature': 71.0}, {'Date': '2010-03-16', 'Minimum Temperature': 63.0, 'Average Temperature': 67.8, 'Maximum Temperature': 71.0}, {'Date': '2010-03-17', 'Minimum Temperature': 63.0, 'Average Temperature': 65.9, 'Maximum Temperature': 69.0}, {'Date': '2010-03-18', 'Minimum Temperature': 65.0, 'Average Temperature': 67.0, 'Maximum Temperature': 70.0}, {'Date': '2010-03-19', 'Minimum Temperature': 62.0, 'Average Temperature': 66.7, 'Maximum Temperature': 69.0}, {'Date': '2010-03-20', 'Minimum Temperature': 65.0, 'Average Temperature': 69.0, 'Maximum Temperature': 73.0}, {'Date': '2010-03-21', 'Minimum Temperature': 60.0, 'Average Temperature': 69.0, 'Maximum Temperature': 74.0}, {'Date': '2010-03-22', 'Minimum Temperature': 65.0, 'Average Temperature': 70.0, 'Maximum Temperature': 77.0}, {'Date': '2010-03-23', 'Minimum Temperature': 64.0, 'Average Temperature': 67.9, 'Maximum Temperature': 74.0}, {'Date': '2010-03-24', 'Minimum Temperature': 71.0, 'Average Temperature': 72.6, 'Maximum Temperature': 77.0}, {'Date': '2010-03-25', 'Minimum Temperature': 67.0, 'Average Temperature': 70.8, 'Maximum Temperature': 73.0}, {'Date': '2010-03-26', 'Minimum Temperature': 66.0, 'Average Temperature': 70.9, 'Maximum Temperature': 74.0}, {'Date': '2010-03-27', 'Minimum Temperature': 71.0, 'Average Temperature': 73.1, 'Maximum Temperature': 77.0}, {'Date': '2010-03-28', 'Minimum Temperature': 69.0, 'Average Temperature': 72.8, 'Maximum Temperature': 76.0}, {'Date': '2010-03-29', 'Minimum Temperature': 69.0, 'Average Temperature': 71.2, 'Maximum Temperature': 74.0}, {'Date': '2010-03-30', 'Minimum Temperature': 68.0, 'Average Temperature': 71.4, 'Maximum Temperature': 73.0}, {'Date': '2010-03-31', 'Minimum Temperature': 67.0, 'Average Temperature': 71.3, 'Maximum Temperature': 73.0}, {'Date': '2010-04-01', 'Minimum Temperature': 69.0, 'Average Temperature': 72.1, 'Maximum Temperature': 74.0}, {'Date': '2010-04-02', 'Minimum Temperature': 65.0, 'Average Temperature': 71.4, 'Maximum Temperature': 74.0}, {'Date': '2010-04-03', 'Minimum Temperature': 67.0, 'Average Temperature': 71.9, 'Maximum Temperature': 78.0}, {'Date': '2010-04-04', 'Minimum Temperature': 66.0, 'Average Temperature': 69.9, 'Maximum Temperature': 72.0}, {'Date': '2010-04-05', 'Minimum Temperature': 67.0, 'Average Temperature': 70.6, 'Maximum Temperature': 73.0}, {'Date': '2010-04-06', 'Minimum Temperature': 69.0, 'Average Temperature': 70.6, 'Maximum Temperature': 75.0}, {'Date': '2010-04-07', 'Minimum Temperature': 68.0, 'Average Temperature': 70.6, 'Maximum Temperature': 73.0}, {'Date': '2010-04-08', 'Minimum Temperature': 68.0, 'Average Temperature': 72.9, 'Maximum Temperature': 76.0}, {'Date': '2010-04-09', 'Minimum Temperature': 68.0, 'Average Temperature': 70.4, 'Maximum Temperature': 75.0}, {'Date': '2010-04-10', 'Minimum Temperature': 67.0, 'Average Temperature': 73.4, 'Maximum Temperature': 76.0}]\n"
     ]
    }
   ],
   "source": [
    "tobs_from_to_list = []\n",
    "for d, min, avg, max in tobs_from:\n",
    "        tobs_from_data = {}\n",
    "        tobs_from_data[\"Date\"] = d\n",
    "        tobs_from_data[\"Minimum Temperature\"] = min\n",
    "        tobs_from_data[\"Average Temperature\"] = round(avg, 1)\n",
    "        tobs_from_data[\"Maximum Temperature\"] = max\n",
    "        tobs_from_to_list.append(tobs_from_data)\n",
    "print(tobs_from_to_list)"
   ]
  },
  {
   "cell_type": "code",
   "execution_count": 26,
   "metadata": {},
   "outputs": [],
   "source": [
    "blah = session.query(measurement.date, measurement.tobs, measurement.prcp)"
   ]
  },
  {
   "cell_type": "code",
   "execution_count": 27,
   "metadata": {},
   "outputs": [],
   "source": [
    "tester = pd.DataFrame(blah)"
   ]
  },
  {
   "cell_type": "code",
   "execution_count": 28,
   "metadata": {},
   "outputs": [
    {
     "name": "stdout",
     "output_type": "stream",
     "text": [
      "True\n"
     ]
    }
   ],
   "source": [
    "any_nulls = tester['prcp'].isnull().values.any()\n",
    "print(any_nulls)"
   ]
  },
  {
   "cell_type": "code",
   "execution_count": null,
   "metadata": {},
   "outputs": [],
   "source": [
    "@app.route(\"/api/v1.0/start_date/end_date/<start_date>/<end_date>\")\n",
    "def start_end(start_date, end_date):\n",
    "    \n",
    "    session = Session(engine)\n",
    "\n",
    "    tobs_from = session.query(measurement.date, \n",
    "                              func.min(measurement.tobs),\\\n",
    "                              func.avg(measurement.tobs),\\\n",
    "                                func.max(measurement.tobs)).\\\n",
    "                                filter(measurement.date >= start_date).\\\n",
    "                                filter(measurement.date <= end_date).\\\n",
    "                                group_by(measurement.date)\n",
    "\n",
    "\n",
    "    session.close()\n",
    "\n",
    "    print(tobs_from)\n",
    "\n",
    "    tobs_from_to_list = []\n",
    "    for d, min, avg, max in tobs_from:\n",
    "        tobs_from_data = {}\n",
    "        tobs_from_data[\"Date\"] = d\n",
    "        tobs_from_data[\"Minimum Temperature\"] = min\n",
    "        tobs_from_data[\"Average Temperature\"] = round(avg, 1)\n",
    "        tobs_from_data[\"Maximum Temperature\"] = max\n",
    "        tobs_from_to_list.append(tobs_from_data)\n",
    "\n",
    "    \n",
    "\n",
    "    return jsonify(tobs_from_to_list)\n",
    "\n"
   ]
  }
 ],
 "metadata": {
  "kernelspec": {
   "display_name": "dev",
   "language": "python",
   "name": "python3"
  },
  "language_info": {
   "codemirror_mode": {
    "name": "ipython",
    "version": 3
   },
   "file_extension": ".py",
   "mimetype": "text/x-python",
   "name": "python",
   "nbconvert_exporter": "python",
   "pygments_lexer": "ipython3",
   "version": "3.10.15"
  }
 },
 "nbformat": 4,
 "nbformat_minor": 2
}
