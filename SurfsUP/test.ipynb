{
 "cells": [
  {
   "cell_type": "code",
   "execution_count": 1,
   "metadata": {},
   "outputs": [],
   "source": [
    "import sqlalchemy\n",
    "from sqlalchemy.ext.automap import automap_base\n",
    "from sqlalchemy.orm import Session\n",
    "from flask import Flask, jsonify\n",
    "from sqlalchemy import create_engine, func\n",
    "from datetime import datetime\n",
    "import pandas as pd"
   ]
  },
  {
   "cell_type": "code",
   "execution_count": 2,
   "metadata": {},
   "outputs": [],
   "source": [
    "engine = create_engine(\"sqlite:///../Resources/hawaii.sqlite\")\n",
    "Base = automap_base()\n",
    "Base.prepare(autoload_with=engine)\n",
    "# reflect the tables\n",
    "Base.classes.keys()\n",
    "\n",
    "# Save references to each table\n",
    "station = Base.classes.station\n",
    "measurement = Base.classes.measurement\n"
   ]
  },
  {
   "cell_type": "code",
   "execution_count": 3,
   "metadata": {},
   "outputs": [],
   "source": [
    "app = Flask(__name__)\n",
    "session = Session(engine)"
   ]
  },
  {
   "cell_type": "code",
   "execution_count": 4,
   "metadata": {},
   "outputs": [],
   "source": [
    "start_date = \"2010-1-7\"\n",
    "end_date = \"2010-4-10\""
   ]
  },
  {
   "cell_type": "code",
   "execution_count": 10,
   "metadata": {},
   "outputs": [],
   "source": [
    "start_object = datetime.strptime(start_date, \"%Y-%m-%d\").date()\n",
    "end_object = datetime.strptime(end_date, \"%Y-%m-%d\").date()"
   ]
  },
  {
   "cell_type": "code",
   "execution_count": 11,
   "metadata": {},
   "outputs": [
    {
     "name": "stdout",
     "output_type": "stream",
     "text": [
      "2010-01-07\n",
      "2010-04-10\n"
     ]
    }
   ],
   "source": [
    "print(start_object)\n",
    "print(end_object)"
   ]
  },
  {
   "cell_type": "code",
   "execution_count": 6,
   "metadata": {},
   "outputs": [],
   "source": [
    "tobs_from = session.query(\n",
    "    measurement.date, \n",
    "    func.min(measurement.tobs).label('min_1'),\n",
    "    func.avg(measurement.tobs).label('avg_1'),\n",
    "    func.max(measurement.tobs).label('max_1')\n",
    ").filter(\n",
    "    measurement.date >= start_date,\n",
    "    measurement.date <= end_date\n",
    ").group_by(\n",
    "    measurement.date\n",
    ").all() "
   ]
  },
  {
   "cell_type": "code",
   "execution_count": 12,
   "metadata": {},
   "outputs": [
    {
     "name": "stdout",
     "output_type": "stream",
     "text": [
      "SELECT measurement.date AS measurement_date, min(measurement.tobs) AS min_1, avg(measurement.tobs) AS avg_1, max(measurement.tobs) AS max_1 \n",
      "FROM measurement \n",
      "WHERE measurement.date >= ? AND measurement.date <= ? GROUP BY measurement.date\n"
     ]
    }
   ],
   "source": [
    "tobs_from = session.query(measurement.date, \n",
    "                              func.min(measurement.tobs),\\\n",
    "                              func.avg(measurement.tobs),\\\n",
    "                                func.max(measurement.tobs)).\\\n",
    "                                filter(measurement.date >= start_date).\\\n",
    "                                filter(measurement.date <= end_date).\\\n",
    "                                group_by(measurement.date)\n",
    "\n",
    "print(tobs_from)"
   ]
  },
  {
   "cell_type": "code",
   "execution_count": 14,
   "metadata": {},
   "outputs": [
    {
     "name": "stdout",
     "output_type": "stream",
     "text": [
      "[{'Date': '2010-10-01', 'Minimum Temperature': 71.0, 'Average Temperature': 73.0, 'Maximum Temperature': 78.0}, {'Date': '2010-10-02', 'Minimum Temperature': 73.0, 'Average Temperature': 76.8, 'Maximum Temperature': 80.0}, {'Date': '2010-10-03', 'Minimum Temperature': 70.0, 'Average Temperature': 76.6, 'Maximum Temperature': 82.0}, {'Date': '2010-10-04', 'Minimum Temperature': 71.0, 'Average Temperature': 74.8, 'Maximum Temperature': 78.0}, {'Date': '2010-10-05', 'Minimum Temperature': 71.0, 'Average Temperature': 76.4, 'Maximum Temperature': 80.0}, {'Date': '2010-10-06', 'Minimum Temperature': 71.0, 'Average Temperature': 75.8, 'Maximum Temperature': 79.0}, {'Date': '2010-10-07', 'Minimum Temperature': 68.0, 'Average Temperature': 74.7, 'Maximum Temperature': 80.0}, {'Date': '2010-10-08', 'Minimum Temperature': 69.0, 'Average Temperature': 75.7, 'Maximum Temperature': 81.0}, {'Date': '2010-10-09', 'Minimum Temperature': 72.0, 'Average Temperature': 76.4, 'Maximum Temperature': 79.0}, {'Date': '2010-10-10', 'Minimum Temperature': 73.0, 'Average Temperature': 76.6, 'Maximum Temperature': 80.0}, {'Date': '2010-10-11', 'Minimum Temperature': 71.0, 'Average Temperature': 75.4, 'Maximum Temperature': 79.0}, {'Date': '2010-10-12', 'Minimum Temperature': 71.0, 'Average Temperature': 74.1, 'Maximum Temperature': 80.0}, {'Date': '2010-10-13', 'Minimum Temperature': 71.0, 'Average Temperature': 75.0, 'Maximum Temperature': 78.0}, {'Date': '2010-10-14', 'Minimum Temperature': 67.0, 'Average Temperature': 73.8, 'Maximum Temperature': 77.0}, {'Date': '2010-10-15', 'Minimum Temperature': 70.0, 'Average Temperature': 75.4, 'Maximum Temperature': 82.0}, {'Date': '2010-10-16', 'Minimum Temperature': 72.0, 'Average Temperature': 75.3, 'Maximum Temperature': 77.0}, {'Date': '2010-10-17', 'Minimum Temperature': 74.0, 'Average Temperature': 76.2, 'Maximum Temperature': 81.0}, {'Date': '2010-10-18', 'Minimum Temperature': 65.0, 'Average Temperature': 71.6, 'Maximum Temperature': 76.0}, {'Date': '2010-10-19', 'Minimum Temperature': 67.0, 'Average Temperature': 71.0, 'Maximum Temperature': 74.0}, {'Date': '2010-10-20', 'Minimum Temperature': 67.0, 'Average Temperature': 72.7, 'Maximum Temperature': 78.0}, {'Date': '2010-10-21', 'Minimum Temperature': 72.0, 'Average Temperature': 74.2, 'Maximum Temperature': 80.0}, {'Date': '2010-10-22', 'Minimum Temperature': 68.0, 'Average Temperature': 74.2, 'Maximum Temperature': 77.0}, {'Date': '2010-10-23', 'Minimum Temperature': 73.0, 'Average Temperature': 76.0, 'Maximum Temperature': 84.0}, {'Date': '2010-10-24', 'Minimum Temperature': 74.0, 'Average Temperature': 76.6, 'Maximum Temperature': 80.0}, {'Date': '2010-10-25', 'Minimum Temperature': 74.0, 'Average Temperature': 76.0, 'Maximum Temperature': 78.0}, {'Date': '2010-10-26', 'Minimum Temperature': 71.0, 'Average Temperature': 74.2, 'Maximum Temperature': 76.0}, {'Date': '2010-10-27', 'Minimum Temperature': 71.0, 'Average Temperature': 75.6, 'Maximum Temperature': 79.0}, {'Date': '2010-10-28', 'Minimum Temperature': 73.0, 'Average Temperature': 75.8, 'Maximum Temperature': 78.0}, {'Date': '2010-10-29', 'Minimum Temperature': 70.0, 'Average Temperature': 73.8, 'Maximum Temperature': 78.0}, {'Date': '2010-10-30', 'Minimum Temperature': 70.0, 'Average Temperature': 75.9, 'Maximum Temperature': 81.0}, {'Date': '2010-10-31', 'Minimum Temperature': 71.0, 'Average Temperature': 75.3, 'Maximum Temperature': 80.0}, {'Date': '2010-11-01', 'Minimum Temperature': 70.0, 'Average Temperature': 72.3, 'Maximum Temperature': 75.0}, {'Date': '2010-11-02', 'Minimum Temperature': 65.0, 'Average Temperature': 72.4, 'Maximum Temperature': 77.0}, {'Date': '2010-11-03', 'Minimum Temperature': 68.0, 'Average Temperature': 69.8, 'Maximum Temperature': 72.0}, {'Date': '2010-11-04', 'Minimum Temperature': 69.0, 'Average Temperature': 71.7, 'Maximum Temperature': 73.0}, {'Date': '2010-11-05', 'Minimum Temperature': 71.0, 'Average Temperature': 73.8, 'Maximum Temperature': 77.0}, {'Date': '2010-11-06', 'Minimum Temperature': 70.0, 'Average Temperature': 73.9, 'Maximum Temperature': 76.0}, {'Date': '2010-11-07', 'Minimum Temperature': 72.0, 'Average Temperature': 75.6, 'Maximum Temperature': 80.0}, {'Date': '2010-11-08', 'Minimum Temperature': 73.0, 'Average Temperature': 74.5, 'Maximum Temperature': 77.0}, {'Date': '2010-11-09', 'Minimum Temperature': 69.0, 'Average Temperature': 73.8, 'Maximum Temperature': 80.0}, {'Date': '2010-11-10', 'Minimum Temperature': 68.0, 'Average Temperature': 72.6, 'Maximum Temperature': 76.0}, {'Date': '2010-11-11', 'Minimum Temperature': 73.0, 'Average Temperature': 75.4, 'Maximum Temperature': 80.0}, {'Date': '2010-11-12', 'Minimum Temperature': 72.0, 'Average Temperature': 74.3, 'Maximum Temperature': 77.0}, {'Date': '2010-11-13', 'Minimum Temperature': 74.0, 'Average Temperature': 75.4, 'Maximum Temperature': 79.0}, {'Date': '2010-11-14', 'Minimum Temperature': 72.0, 'Average Temperature': 74.2, 'Maximum Temperature': 77.0}, {'Date': '2010-11-15', 'Minimum Temperature': 70.0, 'Average Temperature': 73.1, 'Maximum Temperature': 75.0}, {'Date': '2010-11-16', 'Minimum Temperature': 63.0, 'Average Temperature': 72.1, 'Maximum Temperature': 76.0}, {'Date': '2010-11-17', 'Minimum Temperature': 65.0, 'Average Temperature': 68.8, 'Maximum Temperature': 73.0}, {'Date': '2010-11-18', 'Minimum Temperature': 66.0, 'Average Temperature': 70.6, 'Maximum Temperature': 75.0}, {'Date': '2010-11-19', 'Minimum Temperature': 67.0, 'Average Temperature': 70.6, 'Maximum Temperature': 75.0}, {'Date': '2010-11-20', 'Minimum Temperature': 69.0, 'Average Temperature': 72.0, 'Maximum Temperature': 79.0}, {'Date': '2010-11-21', 'Minimum Temperature': 69.0, 'Average Temperature': 72.7, 'Maximum Temperature': 77.0}, {'Date': '2010-11-22', 'Minimum Temperature': 65.0, 'Average Temperature': 68.9, 'Maximum Temperature': 78.0}, {'Date': '2010-11-23', 'Minimum Temperature': 64.0, 'Average Temperature': 69.1, 'Maximum Temperature': 77.0}, {'Date': '2010-11-24', 'Minimum Temperature': 71.0, 'Average Temperature': 74.0, 'Maximum Temperature': 76.0}, {'Date': '2010-11-25', 'Minimum Temperature': 73.0, 'Average Temperature': 75.2, 'Maximum Temperature': 76.0}, {'Date': '2010-11-26', 'Minimum Temperature': 71.0, 'Average Temperature': 74.8, 'Maximum Temperature': 78.0}, {'Date': '2010-11-27', 'Minimum Temperature': 69.0, 'Average Temperature': 73.7, 'Maximum Temperature': 76.0}, {'Date': '2010-11-28', 'Minimum Temperature': 69.0, 'Average Temperature': 72.3, 'Maximum Temperature': 76.0}, {'Date': '2010-11-29', 'Minimum Temperature': 65.0, 'Average Temperature': 70.6, 'Maximum Temperature': 75.0}, {'Date': '2010-11-30', 'Minimum Temperature': 67.0, 'Average Temperature': 72.4, 'Maximum Temperature': 76.0}, {'Date': '2010-12-01', 'Minimum Temperature': 70.0, 'Average Temperature': 73.1, 'Maximum Temperature': 78.0}, {'Date': '2010-12-02', 'Minimum Temperature': 70.0, 'Average Temperature': 72.5, 'Maximum Temperature': 75.0}, {'Date': '2010-12-03', 'Minimum Temperature': 67.0, 'Average Temperature': 71.9, 'Maximum Temperature': 74.0}, {'Date': '2010-12-04', 'Minimum Temperature': 72.0, 'Average Temperature': 74.9, 'Maximum Temperature': 78.0}, {'Date': '2010-12-05', 'Minimum Temperature': 66.0, 'Average Temperature': 71.3, 'Maximum Temperature': 78.0}, {'Date': '2010-12-06', 'Minimum Temperature': 61.0, 'Average Temperature': 65.1, 'Maximum Temperature': 78.0}, {'Date': '2010-12-07', 'Minimum Temperature': 58.0, 'Average Temperature': 66.2, 'Maximum Temperature': 76.0}, {'Date': '2010-12-08', 'Minimum Temperature': 60.0, 'Average Temperature': 65.7, 'Maximum Temperature': 73.0}, {'Date': '2010-12-09', 'Minimum Temperature': 70.0, 'Average Temperature': 74.4, 'Maximum Temperature': 77.0}, {'Date': '2010-12-10', 'Minimum Temperature': 63.0, 'Average Temperature': 65.2, 'Maximum Temperature': 68.0}, {'Date': '2010-12-11', 'Minimum Temperature': 64.0, 'Average Temperature': 69.2, 'Maximum Temperature': 72.0}, {'Date': '2010-12-12', 'Minimum Temperature': 65.0, 'Average Temperature': 69.7, 'Maximum Temperature': 75.0}, {'Date': '2010-12-13', 'Minimum Temperature': 66.0, 'Average Temperature': 70.2, 'Maximum Temperature': 80.0}, {'Date': '2010-12-14', 'Minimum Temperature': 67.0, 'Average Temperature': 71.8, 'Maximum Temperature': 78.0}, {'Date': '2010-12-15', 'Minimum Temperature': 66.0, 'Average Temperature': 71.8, 'Maximum Temperature': 74.0}, {'Date': '2010-12-16', 'Minimum Temperature': 63.0, 'Average Temperature': 66.4, 'Maximum Temperature': 68.0}, {'Date': '2010-12-17', 'Minimum Temperature': 63.0, 'Average Temperature': 66.1, 'Maximum Temperature': 68.0}, {'Date': '2010-12-18', 'Minimum Temperature': 65.0, 'Average Temperature': 69.0, 'Maximum Temperature': 77.0}, {'Date': '2010-12-19', 'Minimum Temperature': 67.0, 'Average Temperature': 69.3, 'Maximum Temperature': 71.0}, {'Date': '2010-12-20', 'Minimum Temperature': 68.0, 'Average Temperature': 71.2, 'Maximum Temperature': 73.0}, {'Date': '2010-12-21', 'Minimum Temperature': 69.0, 'Average Temperature': 70.5, 'Maximum Temperature': 72.0}, {'Date': '2010-12-22', 'Minimum Temperature': 67.0, 'Average Temperature': 69.0, 'Maximum Temperature': 71.0}, {'Date': '2010-12-23', 'Minimum Temperature': 67.0, 'Average Temperature': 69.7, 'Maximum Temperature': 73.0}, {'Date': '2010-12-24', 'Minimum Temperature': 67.0, 'Average Temperature': 69.3, 'Maximum Temperature': 71.0}, {'Date': '2010-12-25', 'Minimum Temperature': 69.0, 'Average Temperature': 71.4, 'Maximum Temperature': 74.0}, {'Date': '2010-12-26', 'Minimum Temperature': 68.0, 'Average Temperature': 71.7, 'Maximum Temperature': 74.0}, {'Date': '2010-12-27', 'Minimum Temperature': 71.0, 'Average Temperature': 74.4, 'Maximum Temperature': 76.0}, {'Date': '2010-12-28', 'Minimum Temperature': 69.0, 'Average Temperature': 70.7, 'Maximum Temperature': 72.0}, {'Date': '2010-12-29', 'Minimum Temperature': 71.0, 'Average Temperature': 72.7, 'Maximum Temperature': 75.0}, {'Date': '2010-12-30', 'Minimum Temperature': 70.0, 'Average Temperature': 72.3, 'Maximum Temperature': 75.0}, {'Date': '2010-12-31', 'Minimum Temperature': 69.0, 'Average Temperature': 74.0, 'Maximum Temperature': 77.0}]\n"
     ]
    }
   ],
   "source": [
    "tobs_from_to_list = []\n",
    "for d, min, avg, max in tobs_from:\n",
    "        tobs_from_data = {}\n",
    "        tobs_from_data[\"Date\"] = d\n",
    "        tobs_from_data[\"Minimum Temperature\"] = min\n",
    "        tobs_from_data[\"Average Temperature\"] = round(avg, 1)\n",
    "        tobs_from_data[\"Maximum Temperature\"] = max\n",
    "        tobs_from_to_list.append(tobs_from_data)\n",
    "print(tobs_from_to_list)"
   ]
  },
  {
   "cell_type": "code",
   "execution_count": 26,
   "metadata": {},
   "outputs": [],
   "source": [
    "blah = session.query(measurement.date, measurement.tobs, measurement.prcp)"
   ]
  },
  {
   "cell_type": "code",
   "execution_count": 27,
   "metadata": {},
   "outputs": [],
   "source": [
    "tester = pd.DataFrame(blah)"
   ]
  },
  {
   "cell_type": "code",
   "execution_count": 28,
   "metadata": {},
   "outputs": [
    {
     "name": "stdout",
     "output_type": "stream",
     "text": [
      "True\n"
     ]
    }
   ],
   "source": [
    "any_nulls = tester['prcp'].isnull().values.any()\n",
    "print(any_nulls)"
   ]
  },
  {
   "cell_type": "code",
   "execution_count": null,
   "metadata": {},
   "outputs": [],
   "source": [
    "@app.route(\"/api/v1.0/start_date/end_date/<start_date>/<end_date>\")\n",
    "def start_end(start_date, end_date):\n",
    "    \n",
    "    session = Session(engine)\n",
    "\n",
    "    tobs_from = session.query(measurement.date, \n",
    "                              func.min(measurement.tobs),\\\n",
    "                              func.avg(measurement.tobs),\\\n",
    "                                func.max(measurement.tobs)).\\\n",
    "                                filter(measurement.date >= start_date).\\\n",
    "                                filter(measurement.date <= end_date).\\\n",
    "                                group_by(measurement.date)\n",
    "\n",
    "\n",
    "    session.close()\n",
    "\n",
    "    print(tobs_from)\n",
    "\n",
    "    tobs_from_to_list = []\n",
    "    for d, min, avg, max in tobs_from:\n",
    "        tobs_from_data = {}\n",
    "        tobs_from_data[\"Date\"] = d\n",
    "        tobs_from_data[\"Minimum Temperature\"] = min\n",
    "        tobs_from_data[\"Average Temperature\"] = round(avg, 1)\n",
    "        tobs_from_data[\"Maximum Temperature\"] = max\n",
    "        tobs_from_to_list.append(tobs_from_data)\n",
    "\n",
    "    \n",
    "\n",
    "    return jsonify(tobs_from_to_list)\n",
    "\n"
   ]
  }
 ],
 "metadata": {
  "kernelspec": {
   "display_name": "dev",
   "language": "python",
   "name": "python3"
  },
  "language_info": {
   "codemirror_mode": {
    "name": "ipython",
    "version": 3
   },
   "file_extension": ".py",
   "mimetype": "text/x-python",
   "name": "python",
   "nbconvert_exporter": "python",
   "pygments_lexer": "ipython3",
   "version": "3.10.15"
  }
 },
 "nbformat": 4,
 "nbformat_minor": 2
}
